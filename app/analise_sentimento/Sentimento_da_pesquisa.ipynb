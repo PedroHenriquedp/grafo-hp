{
  "nbformat": 4,
  "nbformat_minor": 0,
  "metadata": {
    "colab": {
      "provenance": []
    },
    "kernelspec": {
      "name": "python3",
      "display_name": "Python 3"
    },
    "language_info": {
      "name": "python"
    }
  },
  "cells": [
    {
      "cell_type": "code",
      "source": [
        "pip install nltk seaborn"
      ],
      "metadata": {
        "colab": {
          "base_uri": "https://localhost:8080/"
        },
        "id": "YigcyxLXpaGm",
        "outputId": "c91bdabb-8ff5-42e2-ab6b-6a3f7556828a"
      },
      "execution_count": 11,
      "outputs": [
        {
          "output_type": "stream",
          "name": "stdout",
          "text": [
            "Requirement already satisfied: nltk in /usr/local/lib/python3.10/dist-packages (3.8.1)\n",
            "Requirement already satisfied: seaborn in /usr/local/lib/python3.10/dist-packages (0.12.2)\n",
            "Requirement already satisfied: click in /usr/local/lib/python3.10/dist-packages (from nltk) (8.1.7)\n",
            "Requirement already satisfied: joblib in /usr/local/lib/python3.10/dist-packages (from nltk) (1.3.2)\n",
            "Requirement already satisfied: regex>=2021.8.3 in /usr/local/lib/python3.10/dist-packages (from nltk) (2023.6.3)\n",
            "Requirement already satisfied: tqdm in /usr/local/lib/python3.10/dist-packages (from nltk) (4.66.1)\n",
            "Requirement already satisfied: numpy!=1.24.0,>=1.17 in /usr/local/lib/python3.10/dist-packages (from seaborn) (1.23.5)\n",
            "Requirement already satisfied: pandas>=0.25 in /usr/local/lib/python3.10/dist-packages (from seaborn) (1.5.3)\n",
            "Requirement already satisfied: matplotlib!=3.6.1,>=3.1 in /usr/local/lib/python3.10/dist-packages (from seaborn) (3.7.1)\n",
            "Requirement already satisfied: contourpy>=1.0.1 in /usr/local/lib/python3.10/dist-packages (from matplotlib!=3.6.1,>=3.1->seaborn) (1.2.0)\n",
            "Requirement already satisfied: cycler>=0.10 in /usr/local/lib/python3.10/dist-packages (from matplotlib!=3.6.1,>=3.1->seaborn) (0.12.1)\n",
            "Requirement already satisfied: fonttools>=4.22.0 in /usr/local/lib/python3.10/dist-packages (from matplotlib!=3.6.1,>=3.1->seaborn) (4.45.1)\n",
            "Requirement already satisfied: kiwisolver>=1.0.1 in /usr/local/lib/python3.10/dist-packages (from matplotlib!=3.6.1,>=3.1->seaborn) (1.4.5)\n",
            "Requirement already satisfied: packaging>=20.0 in /usr/local/lib/python3.10/dist-packages (from matplotlib!=3.6.1,>=3.1->seaborn) (23.2)\n",
            "Requirement already satisfied: pillow>=6.2.0 in /usr/local/lib/python3.10/dist-packages (from matplotlib!=3.6.1,>=3.1->seaborn) (9.4.0)\n",
            "Requirement already satisfied: pyparsing>=2.3.1 in /usr/local/lib/python3.10/dist-packages (from matplotlib!=3.6.1,>=3.1->seaborn) (3.1.1)\n",
            "Requirement already satisfied: python-dateutil>=2.7 in /usr/local/lib/python3.10/dist-packages (from matplotlib!=3.6.1,>=3.1->seaborn) (2.8.2)\n",
            "Requirement already satisfied: pytz>=2020.1 in /usr/local/lib/python3.10/dist-packages (from pandas>=0.25->seaborn) (2023.3.post1)\n",
            "Requirement already satisfied: six>=1.5 in /usr/local/lib/python3.10/dist-packages (from python-dateutil>=2.7->matplotlib!=3.6.1,>=3.1->seaborn) (1.16.0)\n"
          ]
        }
      ]
    },
    {
      "cell_type": "code",
      "execution_count": 12,
      "metadata": {
        "colab": {
          "base_uri": "https://localhost:8080/"
        },
        "id": "Tc4JoFG3dN3R",
        "outputId": "3f7438af-eb8e-4ad1-b5b2-26fbbcb17a3a"
      },
      "outputs": [
        {
          "output_type": "stream",
          "name": "stderr",
          "text": [
            "[nltk_data] Downloading package vader_lexicon to /root/nltk_data...\n"
          ]
        },
        {
          "output_type": "execute_result",
          "data": {
            "text/plain": [
              "True"
            ]
          },
          "metadata": {},
          "execution_count": 12
        }
      ],
      "source": [
        "import unicodedata\n",
        "import re\n",
        "import nltk\n",
        "from nltk.sentiment import SentimentIntensityAnalyzer\n",
        "import seaborn as sns\n",
        "import matplotlib.pyplot as plt\n",
        "\n",
        "# Download do recurso necessário para a análise de emoções\n",
        "nltk.download('vader_lexicon')\n"
      ]
    },
    {
      "cell_type": "code",
      "source": [
        "lista_texto = \"\"\"\n",
        "Resiliência\n",
        "Mágico\n",
        "Emocionante\n",
        "Não sei\n",
        "Trem\n",
        "Curioso\n",
        "AFETIVO\n",
        "Mágico\n",
        "Mágico\n",
        "felicidade\n",
        "Nostalgia\n",
        "ENCANTO\n",
        "Amor\n",
        "NOSTALGIA\n",
        "Felicidade\n",
        "Voldemort\n",
        "INFÂNCIA\n",
        "Magia\n",
        "INFÂNCIA\n",
        "IMPRESSIONANTE\n",
        "Mediano\n",
        "EMOÇÃO\n",
        "Encanto\n",
        "nostalgia\n",
        "Inspirador\n",
        "Nostalgia\n",
        "INFÂNCIA\n",
        "Aventura\n",
        "Nostalgia\n",
        "Esperança\n",
        "AVARACADABRA\n",
        "Nostálgico\n",
        "AMIZADE\n",
        "INCRÍVEL\n",
        "MÁGICO\n",
        "HARRY\n",
        "Angústia\n",
        "APRISIONADO\n",
        "OLHO TONTO\n",
        "MARAVILHOSO\n",
        "DIVERTIDO\n",
        "NOSTALGIA\n",
        "Curiosidade\n",
        "MAGICO\n",
        "MEMÓRIAS\n",
        "Nostálgico\n",
        "OK\n",
        "NOSTALGIA\n",
        "Mágico\n",
        "Curiosidade\n",
        "LEGAL\n",
        "MÁGICO\n",
        "MISTÉRIO\n",
        "Infância\n",
        "PICA\n",
        "ACONCHEGO\n",
        "MISTÉRIO\n",
        "SURPRESA\n",
        "Nostalgia\n",
        "Alegria\n",
        "INFÂNCIA\n",
        "AVENTURA\n",
        "Mágico\n",
        "Começo e Nostalgia\n",
        "Nostalgia\n",
        "\"\"\"\n",
        "\n",
        "lista_python = [item.strip() for item in lista_texto.strip().split(\"\\n\")]\n",
        "print(lista_python)"
      ],
      "metadata": {
        "colab": {
          "base_uri": "https://localhost:8080/"
        },
        "id": "EpvgWn_zd7h0",
        "outputId": "a3896965-3371-4914-9936-f941a333d613"
      },
      "execution_count": 7,
      "outputs": [
        {
          "output_type": "stream",
          "name": "stdout",
          "text": [
            "['Resiliência', 'Mágico', 'Emocionante', 'Não sei', 'Trem', 'Curioso', 'AFETIVO', 'Mágico', 'Mágico', 'felicidade', 'Nostalgia', 'ENCANTO', 'Amor', 'NOSTALGIA', 'Felicidade', 'Voldemort', 'INFÂNCIA', 'Magia', 'INFÂNCIA', 'IMPRESSIONANTE', 'Mediano', 'EMOÇÃO', 'Encanto', 'nostalgia', 'Inspirador', 'Nostalgia', 'INFÂNCIA', 'Aventura', 'Nostalgia', 'Esperança', 'AVARACADABRA', 'Nostálgico', 'AMIZADE', 'INCRÍVEL', 'MÁGICO', 'HARRY', 'Angústia', 'APRISIONADO', 'OLHO TONTO', 'MARAVILHOSO', 'DIVERTIDO', 'NOSTALGIA', 'Curiosidade', 'MAGICO', 'MEMÓRIAS', 'Nostálgico', 'OK', 'NOSTALGIA', 'Mágico', 'Curiosidade', 'LEGAL', 'MÁGICO', 'MISTÉRIO', 'Infância', 'PICA', 'ACONCHEGO', 'MISTÉRIO', 'SURPRESA', 'Nostalgia', 'Alegria', 'INFÂNCIA', 'AVENTURA', 'Mágico', 'Começo e Nostalgia', 'Nostalgia']\n"
          ]
        }
      ]
    },
    {
      "cell_type": "code",
      "source": [
        "lista_texto = \"\"\"\n",
        "Resilience\n",
        "Magical\n",
        "Exciting\n",
        "I don't know\n",
        "Train\n",
        "Curious\n",
        "Affectionate\n",
        "Magical\n",
        "Magical\n",
        "Happiness\n",
        "Nostalgia\n",
        "Enchantment\n",
        "Love\n",
        "Nostalgia\n",
        "Happiness\n",
        "Voldemort\n",
        "Childhood\n",
        "Magic\n",
        "Childhood\n",
        "Impressive\n",
        "Average\n",
        "Emotion\n",
        "Charm\n",
        "Nostalgia\n",
        "Inspiring\n",
        "Nostalgia\n",
        "Childhood\n",
        "Adventure\n",
        "Nostalgia\n",
        "Hope\n",
        "AVADA KEDAVRA\n",
        "Nostalgic\n",
        "Friendship\n",
        "Amazing\n",
        "Magical\n",
        "Harry\n",
        "Anguish\n",
        "Imprisoned\n",
        "Mad-Eye\n",
        "Wonderful\n",
        "Fun\n",
        "Nostalgia\n",
        "Curiosity\n",
        "Magical\n",
        "Memories\n",
        "Nostalgic\n",
        "OK\n",
        "Nostalgia\n",
        "Magical\n",
        "Curiosity\n",
        "Cool\n",
        "Magical\n",
        "Mystery\n",
        "Childhood\n",
        "Poke\n",
        "Coziness\n",
        "Mystery\n",
        "Surprise\n",
        "Nostalgia\n",
        "Joy\n",
        "Childhood\n",
        "Adventure\n",
        "Magical\n",
        "Beginning and Nostalgia\n",
        "Nostalgia\n",
        "\"\"\"\n",
        "\n",
        "lista_python = [item.strip() for item in lista_texto.strip().split(\"\\n\")]\n",
        "print(lista_python)"
      ],
      "metadata": {
        "colab": {
          "base_uri": "https://localhost:8080/"
        },
        "outputId": "17209a59-0d54-44b8-cdf4-db67458991c2",
        "id": "Jvb8U_HQX45l"
      },
      "execution_count": 13,
      "outputs": [
        {
          "output_type": "stream",
          "name": "stdout",
          "text": [
            "['Resilience', 'Magical', 'Exciting', \"I don't know\", 'Train', 'Curious', 'Affectionate', 'Magical', 'Magical', 'Happiness', 'Nostalgia', 'Enchantment', 'Love', 'Nostalgia', 'Happiness', 'Voldemort', 'Childhood', 'Magic', 'Childhood', 'Impressive', 'Average', 'Emotion', 'Charm', 'Nostalgia', 'Inspiring', 'Nostalgia', 'Childhood', 'Adventure', 'Nostalgia', 'Hope', 'AVADA KEDAVRA', 'Nostalgic', 'Friendship', 'Amazing', 'Magical', 'Harry', 'Anguish', 'Imprisoned', 'Mad-Eye', 'Wonderful', 'Fun', 'Nostalgia', 'Curiosity', 'Magical', 'Memories', 'Nostalgic', 'OK', 'Nostalgia', 'Magical', 'Curiosity', 'Cool', 'Magical', 'Mystery', 'Childhood', 'Poke', 'Coziness', 'Mystery', 'Surprise', 'Nostalgia', 'Joy', 'Childhood', 'Adventure', 'Magical', 'Beginning and Nostalgia', 'Nostalgia']\n"
          ]
        }
      ]
    },
    {
      "cell_type": "markdown",
      "source": [
        "# Normalização do texto\n"
      ],
      "metadata": {
        "id": "RVzfk81ol5PO"
      }
    },
    {
      "cell_type": "code",
      "source": [
        "\n",
        "lista_python = [item.strip() for item in lista_texto.strip().split(\"\\n\")]\n",
        "\n",
        "lista_normalizada = [re.sub(r'\\s+', ' ', unicodedata.normalize('NFKD', texto).encode('ASCII', 'ignore').decode('ASCII')).strip().upper() for texto in lista_python]\n",
        "\n",
        "print(lista_normalizada)"
      ],
      "metadata": {
        "colab": {
          "base_uri": "https://localhost:8080/"
        },
        "id": "98lnPOMLl9zF",
        "outputId": "f55944b2-429c-4864-c06e-930663fab556"
      },
      "execution_count": 14,
      "outputs": [
        {
          "output_type": "stream",
          "name": "stdout",
          "text": [
            "['RESILIENCE', 'MAGICAL', 'EXCITING', \"I DON'T KNOW\", 'TRAIN', 'CURIOUS', 'AFFECTIONATE', 'MAGICAL', 'MAGICAL', 'HAPPINESS', 'NOSTALGIA', 'ENCHANTMENT', 'LOVE', 'NOSTALGIA', 'HAPPINESS', 'VOLDEMORT', 'CHILDHOOD', 'MAGIC', 'CHILDHOOD', 'IMPRESSIVE', 'AVERAGE', 'EMOTION', 'CHARM', 'NOSTALGIA', 'INSPIRING', 'NOSTALGIA', 'CHILDHOOD', 'ADVENTURE', 'NOSTALGIA', 'HOPE', 'AVADA KEDAVRA', 'NOSTALGIC', 'FRIENDSHIP', 'AMAZING', 'MAGICAL', 'HARRY', 'ANGUISH', 'IMPRISONED', 'MAD-EYE', 'WONDERFUL', 'FUN', 'NOSTALGIA', 'CURIOSITY', 'MAGICAL', 'MEMORIES', 'NOSTALGIC', 'OK', 'NOSTALGIA', 'MAGICAL', 'CURIOSITY', 'COOL', 'MAGICAL', 'MYSTERY', 'CHILDHOOD', 'POKE', 'COZINESS', 'MYSTERY', 'SURPRISE', 'NOSTALGIA', 'JOY', 'CHILDHOOD', 'ADVENTURE', 'MAGICAL', 'BEGINNING AND NOSTALGIA', 'NOSTALGIA']\n"
          ]
        }
      ]
    },
    {
      "cell_type": "markdown",
      "source": [
        "\n",
        "# Gráfico dos sentimentos das pessoas segundo o algoritmo NLKT"
      ],
      "metadata": {
        "id": "l9Xvf_2LvypP"
      }
    },
    {
      "cell_type": "code",
      "source": [
        "# Inicializar o analisador de sentimento VADER\n",
        "sia = SentimentIntensityAnalyzer()\n",
        "\n",
        "def get_sentiment_class(sentence):\n",
        "    sentiment_score = sia.polarity_scores(sentence)['compound']\n",
        "    if sentiment_score >= 0.5:\n",
        "        return 'extremamente positiva'\n",
        "    elif 0.1 <= sentiment_score < 0.5:\n",
        "        return 'positiva'\n",
        "    elif -0.1 <= sentiment_score < 0.1:\n",
        "        return 'neutra'\n",
        "    elif -0.5 <= sentiment_score < -0.1:\n",
        "        return 'negativa'\n",
        "    else:\n",
        "        return 'extremamente negativa'\n",
        "\n",
        "\n",
        "sentiment_counts = {'extremamente positiva': 0, 'positiva': 0, 'neutra': 0, 'negativa': 0, 'extremamente negativa': 0}\n",
        "\n",
        "for word in lista_normalizada:\n",
        "    sentiment_class = get_sentiment_class(word)\n",
        "    sentiment_counts[sentiment_class] += 1\n",
        "\n",
        "\n",
        "total_samples = len(lista_normalizada)\n",
        "percentage_counts = {key: (value / total_samples) * 100 for key, value in sentiment_counts.items()}\n",
        "\n",
        "\n",
        "plt.figure(figsize=(10, 6))\n",
        "sns.barplot(x=list(percentage_counts.keys()), y=list(percentage_counts.values()))\n",
        "\n",
        "plt.yticks(range(0, 101, 10))\n",
        "\n",
        "plt.xlabel('Classificação de Sentimento')\n",
        "plt.ylabel('Porcentagem')\n",
        "plt.title('Sentimento das pessoas em relação ao filme')\n",
        "plt.show()"
      ],
      "metadata": {
        "colab": {
          "base_uri": "https://localhost:8080/",
          "height": 564
        },
        "id": "yiK0Cz_ZuLJn",
        "outputId": "9534a521-fb69-4f9f-e50d-bcac6f4b5c2a"
      },
      "execution_count": 15,
      "outputs": [
        {
          "output_type": "display_data",
          "data": {
            "text/plain": [
              "<Figure size 1000x600 with 1 Axes>"
            ],
            "image/png": "[encoded data removed]"
          },
          "metadata": {}
        }
      ]
    }
  ]
}